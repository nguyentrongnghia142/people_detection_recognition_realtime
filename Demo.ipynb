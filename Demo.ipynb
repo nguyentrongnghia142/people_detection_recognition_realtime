{
 "cells": [
  {
   "cell_type": "markdown",
   "metadata": {},
   "source": [
    "# Keys word\n",
    "* Movidius NCS , OpenVINO, MobileNet, Intel Movidius SDK\n",
    "* SSD Single Shot Detection\n",
    "* Depthwise Separable Convolution,pointwise convolution"
   ]
  },
  {
   "cell_type": "code",
   "execution_count": 2,
   "metadata": {},
   "outputs": [],
   "source": [
    "# https://github.com/nikmart/pi-object-detection.git\n",
    "# https://github.com/rmundra22/Real-Time-Object-Detection.git\n",
    "# https://github.com/ferhat00/Deep-Learning/blob/master/Transfer%20Learning%20CNN/Transfer%20Learning%20in%20Keras%20using%20MobileNet.ipynb\n",
    "# https://arxiv.org/pdf/1704.04861.pdf\n",
    "# https://phamdinhkhanh.github.io/2020/09/19/MobileNet.html"
   ]
  },
  {
   "cell_type": "code",
   "execution_count": 3,
   "metadata": {},
   "outputs": [
    {
     "data": {
      "text/plain": [
       "[7, 4]"
      ]
     },
     "execution_count": 3,
     "metadata": {},
     "output_type": "execute_result"
    }
   ],
   "source": [
    "a = [1,7,4,6,1]\n",
    "a[1:3]"
   ]
  },
  {
   "cell_type": "code",
   "execution_count": 22,
   "metadata": {},
   "outputs": [],
   "source": [
    "import keras\n",
    "import os\n",
    "import matplotlib.pyplot as plt\n",
    "import time\n",
    "from PIL import Image\n",
    "from keras_vggface.vggface import VGGFace\n",
    "from scipy.spatial.distance import cosine\n",
    "from numpy import asarray\n",
    "import warnings\n",
    "warnings.filterwarnings('ignore')"
   ]
  },
  {
   "cell_type": "code",
   "execution_count": 29,
   "metadata": {},
   "outputs": [],
   "source": [
    "listface = []\n",
    "persons = []\n",
    "path = \"dataset/\"\n",
    "for name_ig in os.listdir(path):\n",
    "    person_name = name_ig.split(\".\")[1]\n",
    "    persons.append(person_name)\n",
    "    face = plt.imread(os.path.join(path,name_ig))\n",
    "    listface.append(face)"
   ]
  },
  {
   "cell_type": "code",
   "execution_count": 12,
   "metadata": {},
   "outputs": [],
   "source": [
    "def preprocess_image(face,required_size = (224,224)):\n",
    "    image = Image.fromarray(face)\n",
    "    image = image.resize(required_size)\n",
    "    face_array = asarray(image)\n",
    "    \n",
    "    return face_array"
   ]
  },
  {
   "cell_type": "code",
   "execution_count": 30,
   "metadata": {},
   "outputs": [
    {
     "name": "stdout",
     "output_type": "stream",
     "text": [
      "WARNING:tensorflow:11 out of the last 11 calls to <function Model.make_predict_function.<locals>.predict_function at 0x7f820436eea0> triggered tf.function retracing. Tracing is expensive and the excessive number of tracings could be due to (1) creating @tf.function repeatedly in a loop, (2) passing tensors with different shapes, (3) passing Python objects instead of tensors. For (1), please define your @tf.function outside of the loop. For (2), @tf.function has experimental_relax_shapes=True option that relaxes argument shapes that can avoid unnecessary retracing. For (3), please refer to https://www.tensorflow.org/tutorials/customization/performance#python_or_tensor_args and https://www.tensorflow.org/api_docs/python/tf/function for  more details.\n",
      "Time: 0.835272(s)\n"
     ]
    }
   ],
   "source": [
    "from keras_vggface.utils import preprocess_input\n",
    "\n",
    "faces_input = [preprocess_image(f) for f in listface]\n",
    "\n",
    "faces_input = asarray(faces_input,\"float32\")\n",
    "faces_input = preprocess_input(faces_input,version=2)\n",
    "\n",
    "model =VGGFace(model=\"resnet50\",include_top = False)\n",
    "t0 = time.time()\n",
    "\n",
    "pred = model.predict(faces_input)\n",
    "\n",
    "t = time.time() - t0\n",
    "\n",
    "print(\"Time: %f(s)\" % t);"
   ]
  },
  {
   "cell_type": "code",
   "execution_count": 32,
   "metadata": {},
   "outputs": [
    {
     "data": {
      "text/plain": [
       "0.25952965021133423"
      ]
     },
     "execution_count": 32,
     "metadata": {},
     "output_type": "execute_result"
    }
   ],
   "source": [
    "cosine(pred[0],pred[1])"
   ]
  },
  {
   "cell_type": "code",
   "execution_count": null,
   "metadata": {},
   "outputs": [],
   "source": []
  }
 ],
 "metadata": {
  "kernelspec": {
   "display_name": "Python 3",
   "language": "python",
   "name": "python3"
  },
  "language_info": {
   "codemirror_mode": {
    "name": "ipython",
    "version": 3
   },
   "file_extension": ".py",
   "mimetype": "text/x-python",
   "name": "python",
   "nbconvert_exporter": "python",
   "pygments_lexer": "ipython3",
   "version": "3.6.12"
  }
 },
 "nbformat": 4,
 "nbformat_minor": 4
}
